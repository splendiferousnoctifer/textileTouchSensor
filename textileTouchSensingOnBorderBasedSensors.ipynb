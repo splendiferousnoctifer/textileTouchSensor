{
  "nbformat": 4,
  "nbformat_minor": 0,
  "metadata": {
    "colab": {
      "provenance": [],
      "authorship_tag": "ABX9TyNAJYzm9pnEl0zEGbWTehOs",
      "include_colab_link": true
    },
    "kernelspec": {
      "name": "python3",
      "display_name": "Python 3"
    },
    "language_info": {
      "name": "python"
    }
  },
  "cells": [
    {
      "cell_type": "markdown",
      "metadata": {
        "id": "view-in-github",
        "colab_type": "text"
      },
      "source": [
        "<a href=\"https://colab.research.google.com/github/splendiferousnoctifer/textileTouchSensor/blob/main/textileTouchSensingOnBorderBasedSensors.ipynb\" target=\"_parent\"><img src=\"https://colab.research.google.com/assets/colab-badge.svg\" alt=\"Open In Colab\"/></a>"
      ]
    },
    {
      "cell_type": "markdown",
      "source": [
        "# Touch Sensing on Semi-Elastic Textiles with Border-Based Sensors\n",
        "Supplementary Code for the Master's thesis by **Samuel Zühlke, BSc**\n",
        "\n",
        "Submitted to the University of Applied Sciences Upper Austria -\n",
        "**Interactive Media** in Hagenberg, June 2023"
      ],
      "metadata": {
        "id": "vHDit0_B2s05"
      }
    },
    {
      "cell_type": "markdown",
      "source": [
        "This study presents a novel approach for touch sensing using semi-elastic textile surfaces that does not require the placement of additional sensors in the sensing area, instead relying on sensors located on the border of the textile. The proposed approach is demonstrated through experiments involving an elastic Jersey fabric and a variety of machine-learning models. The performance of one particular border-based sensor design is evaluated in depth. By using visual markers, the best-performing visual sensor arrangement predicts a single touch point with a mean squared error of 1.36 mm on an area of 125mm by 125mm.We built a textile only prototype that is able to classify touch at three indent levels (0, 15, and 20 mm) with an accuracy of 82.85%. Our results suggest that this approach has potential applications in wearable technology and smart textiles, making it a promising avenue for further exploration in these fields."
      ],
      "metadata": {
        "id": "Hl5k2PVc4BC1"
      }
    },
    {
      "cell_type": "code",
      "execution_count": null,
      "metadata": {
        "id": "yjflvAAT2aLc"
      },
      "outputs": [],
      "source": []
    }
  ]
}