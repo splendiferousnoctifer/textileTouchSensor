version https://git-lfs.github.com/spec/v1
oid sha256:7674fdfdb0590963ffafd911f8cee8c850f2deeaaccbadc11d9fc0d575466fb3
size 111913561
